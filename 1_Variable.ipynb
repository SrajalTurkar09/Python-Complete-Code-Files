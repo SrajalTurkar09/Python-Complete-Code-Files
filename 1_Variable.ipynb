{
  "cells": [
    {
      "cell_type": "code",
      "execution_count": 1,
      "metadata": {
        "id": "c4w_yNge48Oe"
      },
      "outputs": [],
      "source": [
        "# what is variable\n",
        "# variable is a container there we store value\n"
      ]
    },
    {
      "cell_type": "code",
      "execution_count": 2,
      "metadata": {
        "colab": {
          "base_uri": "https://localhost:8080/"
        },
        "id": "-VL1lGqg52GD",
        "outputId": "72f21433-ce0d-4d17-b84b-b11163e13ab3"
      },
      "outputs": [
        {
          "name": "stdout",
          "output_type": "stream",
          "text": [
            "12\n"
          ]
        }
      ],
      "source": [
        "num  = 12\n",
        "print(12)"
      ]
    },
    {
      "cell_type": "code",
      "execution_count": 3,
      "metadata": {
        "id": "DGbe41I4545p"
      },
      "outputs": [],
      "source": [
        "# types of variable\n",
        "\n",
        "# 1. Global variable\n",
        "# 2. Local variable\n",
        "\n",
        "# global variable\n",
        "# Global variable can be accessed anywhere in the program\n",
        "\n",
        "# local variable\n",
        "# Local variable can only be accessed within the function\n",
        "\n"
      ]
    },
    {
      "cell_type": "code",
      "execution_count": 4,
      "metadata": {
        "id": "i0FU30QV6JAz"
      },
      "outputs": [],
      "source": [
        "# variable naming\n",
        "# variable name should not start with number\n",
        "# variable name should not contain any special character\n",
        "# variable name should not contain any space"
      ]
    },
    {
      "cell_type": "code",
      "execution_count": 1,
      "metadata": {
        "colab": {
          "base_uri": "https://localhost:8080/",
          "height": 106
        },
        "id": "6I0Ehyfj6PEA",
        "outputId": "4d93f56f-e32b-43a3-a70d-5f2eb5541c2b"
      },
      "outputs": [
        {
          "name": "stdout",
          "output_type": "stream",
          "text": [
            "12\n",
            "12\n",
            "12\n"
          ]
        }
      ],
      "source": [
        "# variable name should not start with number\n",
        "num1 = 12\n",
        "print(num1)\n",
        "\n",
        "# variable name should not contain any special character\n",
        "num = 12\n",
        "print(num)\n",
        "\n",
        "# variable name should not contain any space\n",
        "num  = 12\n",
        "print(num )"
      ]
    },
    {
      "cell_type": "code",
      "execution_count": null,
      "metadata": {
        "id": "MdY-wlih6Rav"
      },
      "outputs": [],
      "source": []
    }
  ],
  "metadata": {
    "colab": {
      "provenance": []
    },
    "kernelspec": {
      "display_name": "Python 3",
      "name": "python3"
    },
    "language_info": {
      "codemirror_mode": {
        "name": "ipython",
        "version": 3
      },
      "file_extension": ".py",
      "mimetype": "text/x-python",
      "name": "python",
      "nbconvert_exporter": "python",
      "pygments_lexer": "ipython3",
      "version": "3.8.19"
    }
  },
  "nbformat": 4,
  "nbformat_minor": 0
}
