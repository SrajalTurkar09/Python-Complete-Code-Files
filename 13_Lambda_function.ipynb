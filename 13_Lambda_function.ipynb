{
  "cells": [
    {
      "cell_type": "code",
      "execution_count": 1,
      "metadata": {
        "id": "4jYxWtNDOD-H"
      },
      "outputs": [],
      "source": [
        "# Lambda functions\n",
        "# A Lambda function can take any number of arguments ,  but can only have one expression\n",
        "\n",
        "# A lambda fucntion is a small anonymous function"
      ]
    },
    {
      "cell_type": "code",
      "execution_count": 2,
      "metadata": {
        "colab": {
          "base_uri": "https://localhost:8080/"
        },
        "id": "V9nHOkLnO1Z4",
        "outputId": "e66c5b50-2b7a-4b15-a5ca-4f0a80128378"
      },
      "outputs": [
        {
          "data": {
            "text/plain": [
              "15"
            ]
          },
          "execution_count": 2,
          "metadata": {},
          "output_type": "execute_result"
        }
      ],
      "source": [
        "# Example\n",
        "x = lambda a : a + 10\n",
        "x(5)"
      ]
    },
    {
      "cell_type": "code",
      "execution_count": 3,
      "metadata": {
        "colab": {
          "base_uri": "https://localhost:8080/"
        },
        "id": "f2KhIZv9O8r-",
        "outputId": "115e1d1d-3b9c-44db-8802-e78955d17d52"
      },
      "outputs": [
        {
          "data": {
            "text/plain": [
              "10"
            ]
          },
          "execution_count": 3,
          "metadata": {},
          "output_type": "execute_result"
        }
      ],
      "source": [
        "x = lambda a, b : a + b\n",
        "x(5,5)"
      ]
    },
    {
      "cell_type": "code",
      "execution_count": 5,
      "metadata": {
        "colab": {
          "base_uri": "https://localhost:8080/"
        },
        "id": "MZB6Yz1sPJgY",
        "outputId": "421c7689-141a-46db-bf14-329444851da6"
      },
      "outputs": [
        {
          "data": {
            "text/plain": [
              "30"
            ]
          },
          "execution_count": 5,
          "metadata": {},
          "output_type": "execute_result"
        }
      ],
      "source": [
        "x = lambda a , b , c : a + b * c\n",
        "x(5,5,5)"
      ]
    },
    {
      "cell_type": "code",
      "execution_count": 8,
      "metadata": {
        "colab": {
          "base_uri": "https://localhost:8080/"
        },
        "id": "DwnsLytlPRL5",
        "outputId": "0a8e1d35-b919-45d1-be7b-cfdca3da4989"
      },
      "outputs": [
        {
          "data": {
            "text/plain": [
              "13"
            ]
          },
          "execution_count": 8,
          "metadata": {},
          "output_type": "execute_result"
        }
      ],
      "source": [
        "# using with function\n",
        "def myfun(n):\n",
        "  return lambda a : a + n\n",
        "\n",
        "my_doubler = myfun(2)\n",
        "\n",
        "my_doubler(11)"
      ]
    },
    {
      "cell_type": "code",
      "execution_count": null,
      "metadata": {
        "id": "J3aqTTMcPh9m"
      },
      "outputs": [],
      "source": [
        "# examples\n",
        "\n"
      ]
    }
  ],
  "metadata": {
    "colab": {
      "provenance": []
    },
    "kernelspec": {
      "display_name": "Python 3",
      "name": "python3"
    },
    "language_info": {
      "name": "python"
    }
  },
  "nbformat": 4,
  "nbformat_minor": 0
}
